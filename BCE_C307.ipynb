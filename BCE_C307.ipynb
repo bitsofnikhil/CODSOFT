{
  "nbformat": 4,
  "nbformat_minor": 0,
  "metadata": {
    "colab": {
      "provenance": [],
      "authorship_tag": "ABX9TyMPlR8vayCZMDaOK4FheohA",
      "include_colab_link": true
    },
    "kernelspec": {
      "name": "python3",
      "display_name": "Python 3"
    },
    "language_info": {
      "name": "python"
    }
  },
  "cells": [
    {
      "cell_type": "markdown",
      "metadata": {
        "id": "view-in-github",
        "colab_type": "text"
      },
      "source": [
        "<a href=\"https://colab.research.google.com/github/bitsofnikhil/CODSOFT/blob/main/BCE_C307.ipynb\" target=\"_parent\"><img src=\"https://colab.research.google.com/assets/colab-badge.svg\" alt=\"Open In Colab\"/></a>"
      ]
    },
    {
      "cell_type": "markdown",
      "source": [
        "Day 1"
      ],
      "metadata": {
        "id": "6EOUPHxqQAjg"
      }
    },
    {
      "cell_type": "code",
      "execution_count": null,
      "metadata": {
        "id": "T93-jZOePgu0"
      },
      "outputs": [],
      "source": [
        "from datetime import datetime\n"
      ]
    },
    {
      "cell_type": "code",
      "source": [
        "print(\"Nikhil Kumawat\")"
      ],
      "metadata": {
        "colab": {
          "base_uri": "https://localhost:8080/"
        },
        "id": "4qlbonEQVfEG",
        "outputId": "92c6b5b9-f78c-45d4-c037-8c223c54c956"
      },
      "execution_count": null,
      "outputs": [
        {
          "output_type": "stream",
          "name": "stdout",
          "text": [
            "Nikhil Kumawat\n"
          ]
        }
      ]
    },
    {
      "cell_type": "code",
      "source": [
        "name=input(\"Enter your name:\")\n",
        "print(name)"
      ],
      "metadata": {
        "colab": {
          "base_uri": "https://localhost:8080/"
        },
        "id": "blX_eUglPqLr",
        "outputId": "ae6b151f-9bf2-46f3-f9e8-2c9372e4e125"
      },
      "execution_count": null,
      "outputs": [
        {
          "output_type": "stream",
          "name": "stdout",
          "text": [
            "Enter your name:\n",
            "\n"
          ]
        }
      ]
    },
    {
      "cell_type": "code",
      "source": [],
      "metadata": {
        "id": "boMPtcpzVeSW"
      },
      "execution_count": null,
      "outputs": []
    },
    {
      "cell_type": "code",
      "source": [
        "name=input(\"Enter your name:\")\n",
        "age=input(\"ENter your age:\")\n",
        "print(name)\n",
        "print(age)"
      ],
      "metadata": {
        "colab": {
          "base_uri": "https://localhost:8080/"
        },
        "id": "Dr4dJMFcQL_-",
        "outputId": "7f302df8-c22a-4095-8970-2b0f36684523"
      },
      "execution_count": null,
      "outputs": [
        {
          "output_type": "stream",
          "name": "stdout",
          "text": [
            "Enter your name:a\n",
            "ENter your age:\n",
            "a\n",
            "\n"
          ]
        }
      ]
    },
    {
      "cell_type": "code",
      "source": [
        "a=10\n",
        "b=20\n",
        "print(\"Before swap a=\",a)\n",
        "print(\"Before swap b=\",b)\n",
        "a=a+b\n",
        "b=a-b\n",
        "a=a-b\n",
        "print(\"After swap a=\",a)\n",
        "print(\"After swap b=\",b)"
      ],
      "metadata": {
        "colab": {
          "base_uri": "https://localhost:8080/"
        },
        "id": "cEtal97qQh2B",
        "outputId": "d2d53d7a-5696-48d9-fb5f-27012a4f4e53"
      },
      "execution_count": null,
      "outputs": [
        {
          "output_type": "stream",
          "name": "stdout",
          "text": [
            "Before swap a= 10\n",
            "Before swap b= 20\n",
            "After swap a= 20\n",
            "After swap b= 10\n"
          ]
        }
      ]
    },
    {
      "cell_type": "code",
      "source": [
        "a=10\n",
        "b=20\n",
        "a,b=b,a\n",
        "print(a,b)"
      ],
      "metadata": {
        "colab": {
          "base_uri": "https://localhost:8080/"
        },
        "id": "Uji4XdWbYhov",
        "outputId": "ce0fd321-a7d8-4420-d80a-66d6e1da1b76"
      },
      "execution_count": null,
      "outputs": [
        {
          "output_type": "stream",
          "name": "stdout",
          "text": [
            "20 10\n"
          ]
        }
      ]
    },
    {
      "cell_type": "code",
      "source": [
        "name=input(\"Enter your name:\")\n",
        "birth_year=input(\"Enter your birth year:\")\n",
        "current_datetime = datetime.now()\n",
        "age=current_datetime.year-int(birth_year)\n",
        "\n",
        "# print(age)\n",
        "# age=2025-int(age)\n",
        "print(f\"Welcome {name}, your age is {age}\")\n"
      ],
      "metadata": {
        "colab": {
          "base_uri": "https://localhost:8080/",
          "height": 252
        },
        "id": "wDPuC0x5TSJx",
        "outputId": "860e4970-7992-4464-b7c5-3d9b19942287"
      },
      "execution_count": null,
      "outputs": [
        {
          "name": "stdout",
          "output_type": "stream",
          "text": [
            "Enter your name:a\n",
            "Enter your birth year:a\n"
          ]
        },
        {
          "output_type": "error",
          "ename": "ValueError",
          "evalue": "invalid literal for int() with base 10: 'a'",
          "traceback": [
            "\u001b[0;31m---------------------------------------------------------------------------\u001b[0m",
            "\u001b[0;31mValueError\u001b[0m                                Traceback (most recent call last)",
            "\u001b[0;32m/tmp/ipython-input-48-4003317151.py\u001b[0m in \u001b[0;36m<cell line: 0>\u001b[0;34m()\u001b[0m\n\u001b[1;32m      2\u001b[0m \u001b[0mbirth_year\u001b[0m\u001b[0;34m=\u001b[0m\u001b[0minput\u001b[0m\u001b[0;34m(\u001b[0m\u001b[0;34m\"Enter your birth year:\"\u001b[0m\u001b[0;34m)\u001b[0m\u001b[0;34m\u001b[0m\u001b[0;34m\u001b[0m\u001b[0m\n\u001b[1;32m      3\u001b[0m \u001b[0mcurrent_datetime\u001b[0m \u001b[0;34m=\u001b[0m \u001b[0mdatetime\u001b[0m\u001b[0;34m.\u001b[0m\u001b[0mnow\u001b[0m\u001b[0;34m(\u001b[0m\u001b[0;34m)\u001b[0m\u001b[0;34m\u001b[0m\u001b[0;34m\u001b[0m\u001b[0m\n\u001b[0;32m----> 4\u001b[0;31m \u001b[0mage\u001b[0m\u001b[0;34m=\u001b[0m\u001b[0mcurrent_datetime\u001b[0m\u001b[0;34m.\u001b[0m\u001b[0myear\u001b[0m\u001b[0;34m-\u001b[0m\u001b[0mint\u001b[0m\u001b[0;34m(\u001b[0m\u001b[0mbirth_year\u001b[0m\u001b[0;34m)\u001b[0m\u001b[0;34m\u001b[0m\u001b[0;34m\u001b[0m\u001b[0m\n\u001b[0m\u001b[1;32m      5\u001b[0m \u001b[0;34m\u001b[0m\u001b[0m\n\u001b[1;32m      6\u001b[0m \u001b[0;31m# print(age)\u001b[0m\u001b[0;34m\u001b[0m\u001b[0;34m\u001b[0m\u001b[0m\n",
            "\u001b[0;31mValueError\u001b[0m: invalid literal for int() with base 10: 'a'"
          ]
        }
      ]
    },
    {
      "cell_type": "markdown",
      "source": [
        "                                                    DAY-2"
      ],
      "metadata": {
        "id": "4er_wOLMFtkv"
      }
    },
    {
      "cell_type": "code",
      "source": [
        "print(\"CSE\",\"gkv.ac.in\",\"ji\",sep='@',end=\"#\")"
      ],
      "metadata": {
        "id": "pa4SiYqHVUaH"
      },
      "execution_count": null,
      "outputs": []
    },
    {
      "cell_type": "code",
      "source": [
        "m=10\n",
        "id(m)\n"
      ],
      "metadata": {
        "id": "5ZjxWP36Bysm"
      },
      "execution_count": null,
      "outputs": []
    },
    {
      "cell_type": "code",
      "source": [
        "n=m\n",
        "id(n)"
      ],
      "metadata": {
        "id": "avgEq8RrCSvE"
      },
      "execution_count": null,
      "outputs": []
    },
    {
      "cell_type": "code",
      "source": [
        "n=-6\n",
        "m=-6\n",
        "id(n)"
      ],
      "metadata": {
        "id": "b8yTpaVSCd7e"
      },
      "execution_count": null,
      "outputs": []
    },
    {
      "cell_type": "code",
      "source": [
        "id(m)\n"
      ],
      "metadata": {
        "id": "gFl2K4cZCjrl"
      },
      "execution_count": null,
      "outputs": []
    },
    {
      "cell_type": "code",
      "source": [
        "f=1.2e3\n",
        "print(f)"
      ],
      "metadata": {
        "id": "a54cOSrkHyE2"
      },
      "execution_count": null,
      "outputs": []
    },
    {
      "cell_type": "code",
      "source": [
        "y=1\n",
        "x=y\n",
        "y=2\n",
        "print(x,y)\n",
        "\n",
        "\n"
      ],
      "metadata": {
        "id": "vO2ttOENPuIr"
      },
      "execution_count": null,
      "outputs": []
    },
    {
      "cell_type": "markdown",
      "source": [
        "list is mutable so this change is happening but integer cannot be change\n",
        "Integer,float,string,tuple They are immutable\n"
      ],
      "metadata": {
        "id": "jLOk9atJQnn6"
      }
    },
    {
      "cell_type": "code",
      "source": [
        "a=[1,2,3,4]\n",
        "b=a\n",
        "a.append(5)\n",
        "print(a)\n",
        "print(b)"
      ],
      "metadata": {
        "id": "KBNlwwFnQNV9"
      },
      "execution_count": null,
      "outputs": []
    },
    {
      "cell_type": "code",
      "source": [
        "\n",
        "y=2*(1+5)\n",
        "print(y)"
      ],
      "metadata": {
        "id": "4qTsi4e_Q3MY"
      },
      "execution_count": null,
      "outputs": []
    },
    {
      "cell_type": "code",
      "source": [
        "bool(0)\n",
        "bool(1)"
      ],
      "metadata": {
        "id": "gneMQzYnTkT2"
      },
      "execution_count": null,
      "outputs": []
    },
    {
      "cell_type": "code",
      "source": [
        "True+True\n"
      ],
      "metadata": {
        "id": "jq3-sCNxT2pu"
      },
      "execution_count": null,
      "outputs": []
    },
    {
      "cell_type": "code",
      "source": [
        "True-False"
      ],
      "metadata": {
        "id": "5_KKBO6jT7Gj"
      },
      "execution_count": null,
      "outputs": []
    },
    {
      "cell_type": "code",
      "source": [
        "print('{0:8} | {1:9} | {2:>10}'.format('Fruit','Quantity','Price'))\n",
        "print('{0:>8} | {1:9} | {2:10}'.format('Apples',3.,100))\n",
        "print('{0:>8} | {1:9} | {2:>10}'.format('Oranges',10,240))"
      ],
      "metadata": {
        "id": "MkJbk6soUkTz"
      },
      "execution_count": null,
      "outputs": []
    },
    {
      "cell_type": "code",
      "source": [
        "print(\"He said his name was %s.\"%'Nikhil')\n",
        "print(\"He said his name was %r.\"%'Nikhil')"
      ],
      "metadata": {
        "id": "9S2ChSYMXB-E"
      },
      "execution_count": null,
      "outputs": []
    },
    {
      "cell_type": "code",
      "source": [
        "print(\"My 10 character, four decimal number is:{0:10.4f}\".format{num})\n",
        "print(\"My 10 character, four decimal number is:{num:{10},{6}\")"
      ],
      "metadata": {
        "id": "3XaRDlhfZ9fC"
      },
      "execution_count": null,
      "outputs": []
    },
    {
      "cell_type": "code",
      "source": [
        "6/5"
      ],
      "metadata": {
        "id": "_utzo0VHbiS4"
      },
      "execution_count": null,
      "outputs": []
    },
    {
      "cell_type": "code",
      "source": [
        "6//5"
      ],
      "metadata": {
        "id": "9GADcX7hblI7"
      },
      "execution_count": null,
      "outputs": []
    },
    {
      "cell_type": "code",
      "source": [
        "6%5"
      ],
      "metadata": {
        "id": "FizlnOcRbnKt"
      },
      "execution_count": null,
      "outputs": []
    },
    {
      "cell_type": "code",
      "source": [
        "2**(3*2)*2"
      ],
      "metadata": {
        "id": "OWIn0lK4b_nk"
      },
      "execution_count": null,
      "outputs": []
    },
    {
      "cell_type": "code",
      "source": [
        "2*3**2"
      ],
      "metadata": {
        "id": "2t1LnmzBcIce"
      },
      "execution_count": null,
      "outputs": []
    },
    {
      "cell_type": "markdown",
      "source": [
        "DAY-3\n"
      ],
      "metadata": {
        "id": "scevyHe1D3fm"
      }
    },
    {
      "cell_type": "code",
      "source": [
        "s='nikhil'\n",
        "print(s[0])\n",
        "print(s[1])\n",
        "print(s[2])\n",
        "print(s[3])\n",
        "print(s[4])\n",
        "print(s[5])\n",
        "# print(s[6])\n",
        "# s[1]='a'"
      ],
      "metadata": {
        "id": "EcwviBencfM5"
      },
      "execution_count": null,
      "outputs": []
    },
    {
      "cell_type": "code",
      "source": [
        "s[1:4]"
      ],
      "metadata": {
        "id": "DhBZvKOOHsja"
      },
      "execution_count": null,
      "outputs": []
    },
    {
      "cell_type": "code",
      "source": [
        "s[0:]"
      ],
      "metadata": {
        "id": "TO-pzokdHzTL"
      },
      "execution_count": null,
      "outputs": []
    },
    {
      "cell_type": "code",
      "source": [
        "s[0:100]"
      ],
      "metadata": {
        "id": "u62t5HcqH3_4"
      },
      "execution_count": null,
      "outputs": []
    },
    {
      "cell_type": "code",
      "source": [
        "s[-1:]"
      ],
      "metadata": {
        "id": "W8KTtkLWH7x9"
      },
      "execution_count": null,
      "outputs": []
    },
    {
      "cell_type": "code",
      "source": [
        "s[-3:]\n"
      ],
      "metadata": {
        "id": "_jWjMLrZIK_q"
      },
      "execution_count": null,
      "outputs": []
    },
    {
      "cell_type": "code",
      "source": [
        "s[:-3]"
      ],
      "metadata": {
        "id": "3X35hnYfIb9M"
      },
      "execution_count": null,
      "outputs": []
    },
    {
      "cell_type": "code",
      "source": [
        "s[:3]+s[3:]"
      ],
      "metadata": {
        "id": "gbjtnxBZI3D0"
      },
      "execution_count": null,
      "outputs": []
    },
    {
      "cell_type": "code",
      "source": [
        "name='Python Programming'\n"
      ],
      "metadata": {
        "id": "UmU1fvJ5JFsQ"
      },
      "execution_count": null,
      "outputs": []
    },
    {
      "cell_type": "code",
      "source": [
        "print(name[0],name[7],len(name))"
      ],
      "metadata": {
        "id": "yJPB9Ul5JLUt"
      },
      "execution_count": null,
      "outputs": []
    },
    {
      "cell_type": "code",
      "source": [
        "print(name[1::2])"
      ],
      "metadata": {
        "id": "77UPg67ZJ0-S"
      },
      "execution_count": null,
      "outputs": []
    },
    {
      "cell_type": "code",
      "source": [
        "s[:]"
      ],
      "metadata": {
        "id": "LF6A-rx1KB4J"
      },
      "execution_count": null,
      "outputs": []
    },
    {
      "cell_type": "code",
      "source": [
        "s[::]"
      ],
      "metadata": {
        "id": "qFdh9oKOKDlb"
      },
      "execution_count": null,
      "outputs": []
    },
    {
      "cell_type": "code",
      "source": [
        "original='eleven plus two'"
      ],
      "metadata": {
        "id": "ksB3aYtnKEsr"
      },
      "execution_count": null,
      "outputs": []
    },
    {
      "cell_type": "code",
      "source": [
        "first=original[:6]"
      ],
      "metadata": {
        "id": "4u8SsFsSKWuO"
      },
      "execution_count": null,
      "outputs": []
    },
    {
      "cell_type": "code",
      "source": [
        "second=original[6:12]"
      ],
      "metadata": {
        "id": "UFajfThxKq6q"
      },
      "execution_count": null,
      "outputs": []
    },
    {
      "cell_type": "code",
      "source": [
        "third=original[12:]"
      ],
      "metadata": {
        "id": "wppPYRwULFh-"
      },
      "execution_count": null,
      "outputs": []
    },
    {
      "cell_type": "code",
      "source": [
        "first2=first[:2]"
      ],
      "metadata": {
        "id": "kniFK7DkLKAs"
      },
      "execution_count": null,
      "outputs": []
    },
    {
      "cell_type": "code",
      "source": [
        "first3=first[2]"
      ],
      "metadata": {
        "id": "5bZbPSCGLUb7"
      },
      "execution_count": null,
      "outputs": []
    },
    {
      "cell_type": "code",
      "source": [
        "first45=first[3:5]"
      ],
      "metadata": {
        "id": "j_yIQWQILY2c"
      },
      "execution_count": null,
      "outputs": []
    },
    {
      "cell_type": "code",
      "source": [
        "first6=first[-1]"
      ],
      "metadata": {
        "id": "GT8YqJINLeGP"
      },
      "execution_count": null,
      "outputs": []
    },
    {
      "cell_type": "code",
      "source": [
        "third2=third[:2]"
      ],
      "metadata": {
        "id": "FMyABjciLh5R"
      },
      "execution_count": null,
      "outputs": []
    },
    {
      "cell_type": "code",
      "source": [
        "third3=third[-1]"
      ],
      "metadata": {
        "id": "OwoBdyYCLqta"
      },
      "execution_count": null,
      "outputs": []
    },
    {
      "cell_type": "code",
      "source": [
        "original=first2+first3+first45+first6+second+third2+third3\n",
        "modified=third2+first2+first45+second+third3+first6+first3"
      ],
      "metadata": {
        "id": "skn6vaq7Lvq-"
      },
      "execution_count": null,
      "outputs": []
    },
    {
      "cell_type": "code",
      "source": [
        "print(original,\"==\",modified)"
      ],
      "metadata": {
        "colab": {
          "base_uri": "https://localhost:8080/"
        },
        "id": "VxyBoyOmMCdO",
        "outputId": "2f307b15-9158-4f58-8ba4-056da3f5bfe4"
      },
      "execution_count": null,
      "outputs": [
        {
          "output_type": "stream",
          "name": "stdout",
          "text": [
            "eleven plus two == twelve plus one\n"
          ]
        }
      ]
    },
    {
      "cell_type": "code",
      "source": [
        "roll_no=(input(\"Enter your roll no.:\"))\n",
        "\n",
        "print(\"Department=\",roll_no[:2])\n",
        "print(\"Addimission Year= 20\"+roll_no[2:4])\n",
        "if(roll_no[4:5]=='B'):\n",
        "  print(\"Course enrolled B.Tech\")\n",
        "elif(roll_no[4:5]=='M'):\n",
        "  print(\"Course enrolled M.Tech\")\n",
        "elif(roll_no[4:5]=='P'):\n",
        "  print(\"Course enrolled P.hd\")\n",
        "  print(\"Class rank=\"+roll_no[5:])"
      ],
      "metadata": {
        "colab": {
          "base_uri": "https://localhost:8080/"
        },
        "id": "DocrzTcONwXg",
        "outputId": "0193f2e9-86d0-4e9d-e95b-420fb29cc9e2"
      },
      "execution_count": null,
      "outputs": [
        {
          "output_type": "stream",
          "name": "stdout",
          "text": [
            "Enter your roll no.:CS23B010\n",
            "Department= CS\n",
            "Addimission Year= 2023\n",
            "Course enrolled B.Tech\n"
          ]
        }
      ]
    },
    {
      "cell_type": "code",
      "source": [
        "a=\"Hello Python\"\n"
      ],
      "metadata": {
        "id": "7sHVp33gP0wQ"
      },
      "execution_count": null,
      "outputs": []
    },
    {
      "cell_type": "code",
      "source": [
        "a.split()"
      ],
      "metadata": {
        "colab": {
          "base_uri": "https://localhost:8080/"
        },
        "id": "HblA-nngP8rm",
        "outputId": "e6d7c385-8718-4f9a-dda1-8a5f32106f29"
      },
      "execution_count": null,
      "outputs": [
        {
          "output_type": "execute_result",
          "data": {
            "text/plain": [
              "['Hello', 'Python']"
            ]
          },
          "metadata": {},
          "execution_count": 80
        }
      ]
    },
    {
      "cell_type": "code",
      "source": [
        "a.count('Hello Python')"
      ],
      "metadata": {
        "colab": {
          "base_uri": "https://localhost:8080/"
        },
        "id": "RKhR4SWMQDsj",
        "outputId": "ab799d99-58e2-4c7a-a83b-39577314b9b7"
      },
      "execution_count": null,
      "outputs": [
        {
          "output_type": "execute_result",
          "data": {
            "text/plain": [
              "1"
            ]
          },
          "metadata": {},
          "execution_count": 86
        }
      ]
    },
    {
      "cell_type": "code",
      "source": [
        "b=\"Hello\"\n",
        "# for i in b:\n",
        "reverse=b[ : :-1]\n",
        "\n",
        "print(reverse)"
      ],
      "metadata": {
        "id": "66-p5UjqYVzj",
        "colab": {
          "base_uri": "https://localhost:8080/"
        },
        "outputId": "35d798d1-1b52-47ad-d1ad-2de945cf1ab0"
      },
      "execution_count": 17,
      "outputs": [
        {
          "output_type": "stream",
          "name": "stdout",
          "text": [
            "olleH\n"
          ]
        }
      ]
    },
    {
      "cell_type": "code",
      "source": [
        "b.swapcase()"
      ],
      "metadata": {
        "colab": {
          "base_uri": "https://localhost:8080/",
          "height": 36
        },
        "id": "yN-xDh8DICiI",
        "outputId": "96e2c833-9a8b-4f0a-e1ab-6a8620f662a3"
      },
      "execution_count": 16,
      "outputs": [
        {
          "output_type": "execute_result",
          "data": {
            "text/plain": [
              "'hELLO'"
            ],
            "application/vnd.google.colaboratory.intrinsic+json": {
              "type": "string"
            }
          },
          "metadata": {},
          "execution_count": 16
        }
      ]
    },
    {
      "cell_type": "code",
      "source": [
        "x=1\n",
        "def myFun():\n",
        "  # global x\n",
        "  x=5\n",
        "  # x +=5\n",
        "\n",
        "myFun()\n",
        "print(\"Python is\",x)"
      ],
      "metadata": {
        "colab": {
          "base_uri": "https://localhost:8080/"
        },
        "id": "jQTAfAE6JBbT",
        "outputId": "a6ca30f2-7c7a-4dcf-f704-be3679e37b3e"
      },
      "execution_count": 6,
      "outputs": [
        {
          "output_type": "stream",
          "name": "stdout",
          "text": [
            "Python is 1\n"
          ]
        }
      ]
    },
    {
      "cell_type": "code",
      "source": [
        "import math\n",
        "def square(n):\n",
        "  result=pow(n,2)\n",
        "  return result\n",
        "print(square(5))"
      ],
      "metadata": {
        "colab": {
          "base_uri": "https://localhost:8080/"
        },
        "id": "o9fAMz7oKe7j",
        "outputId": "3474a3c8-2126-485d-f4cc-1b1c8f0ed1b3"
      },
      "execution_count": 10,
      "outputs": [
        {
          "output_type": "stream",
          "name": "stdout",
          "text": [
            "25\n"
          ]
        }
      ]
    },
    {
      "cell_type": "code",
      "source": [],
      "metadata": {
        "id": "x_DRDBXaLr9H"
      },
      "execution_count": null,
      "outputs": []
    }
  ]
}